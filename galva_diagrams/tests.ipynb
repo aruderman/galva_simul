{
 "cells": [
  {
   "cell_type": "code",
   "execution_count": 1,
   "id": "f75d3b0f-c7ea-462b-b7cc-a9b4e1f88904",
   "metadata": {},
   "outputs": [],
   "source": [
    "import numpy as np\n",
    "import matplotlib.pyplot as plt\n",
    "import pandas as pd\n",
    "import seaborn as sns\n",
    "\n",
    "import spline as sp\n",
    "import simulation_setup as ss\n",
    "import galva as ga"
   ]
  },
  {
   "cell_type": "code",
   "execution_count": 2,
   "id": "c8614a92-da16-49bb-99ca-465d127384ae",
   "metadata": {},
   "outputs": [],
   "source": [
    "LMO = sp.Spline_params('./LMO-1C.dat')"
   ]
  },
  {
   "cell_type": "code",
   "execution_count": 3,
   "id": "dff006d6-781d-4fdc-a6e3-115cc7846f30",
   "metadata": {},
   "outputs": [],
   "source": [
    "capacidad, potencial, Qmax = LMO.read_iso()"
   ]
  },
  {
   "cell_type": "code",
   "execution_count": 4,
   "id": "0f14d9f1-238f-4e5e-bde6-d9fe448156be",
   "metadata": {},
   "outputs": [],
   "source": [
    "LMO.iso_spline()"
   ]
  },
  {
   "cell_type": "code",
   "execution_count": 5,
   "id": "01e2bd95-f581-4247-84b0-f0b479ccd5f2",
   "metadata": {},
   "outputs": [
    {
     "data": {
      "text/plain": [
       "<Axes: >"
      ]
     },
     "execution_count": 5,
     "metadata": {},
     "output_type": "execute_result"
    },
    {
     "data": {
      "image/png": "[encoded data removed]",
      "text/plain": [
       "<Figure size 640x480 with 1 Axes>"
      ]
     },
     "metadata": {},
     "output_type": "display_data"
    }
   ],
   "source": [
    "LMO.plot()"
   ]
  },
  {
   "cell_type": "code",
   "execution_count": 6,
   "id": "8f767aa9-7f71-417e-981e-82a73e5cb062",
   "metadata": {},
   "outputs": [],
   "source": [
    "params = ss.SimulationSetup(2, #N_THREADS\n",
    "                            1000,# Npx Number of space points\n",
    "                            3000000,# Npt Number of time points\n",
    "                            100,# NPOINT Number of points for output potential profile\n",
    "                            49,# Niso Number of experimental data points\n",
    "                            3.647e-13,# D Diffusion coefficient, cm2/s\n",
    "                            2.9502e-9,# ks heterogeneous rate constant, cm/s\n",
    "                            298.0,# T Absolute temperature, K\n",
    "                            180.815,# Mr Molecular mass of the active material, g/mol\n",
    "                            2.26e-3,# m Active mass, g\n",
    "                            0.05e-4,# d particle diameter, cm\n",
    "                            4.58,# rho Density of the active material, g.cm-3\n",
    "                            0.0,# Rohm Solution resistance, ohm\n",
    "                            2.0,# Xi0 Boundary value for Xi (1), log scale in base 10\n",
    "                            -3.5,# Xif Boundary value for Xi (2), log scale in base 10\n",
    "                            2,# NXi step for Xi, log scale in base 10\n",
    "                            1.0,# L0 Boundary value for L (1), log scale in base 10\n",
    "                            -4.0,# Lf Boundary value for L (2), log scale in base 10\n",
    "                            2,# NL step for L, log scale in base 10\n",
    "                            -0.15,# Eoff Potential cutoff, V\n",
    "                            3,\n",
    "                            )"
   ]
  },
  {
   "cell_type": "code",
   "execution_count": 7,
   "id": "0ca4f80c-318f-4310-9d11-de49e3186588",
   "metadata": {},
   "outputs": [],
   "source": [
    "galva = ga.galva_diagram(params, LMO, 'IBB')"
   ]
  },
  {
   "cell_type": "code",
   "execution_count": 8,
   "id": "c0b8dea4-e2b5-4cf2-a665-78944a89f3ac",
   "metadata": {},
   "outputs": [
    {
     "name": "stdout",
     "output_type": "stream",
     "text": [
      "CPU times: user 50.5 s, sys: 6.57 ms, total: 50.5 s\n",
      "Wall time: 39.7 s\n"
     ]
    }
   ],
   "source": [
    "%%time\n",
    "\n",
    "logL, logXi, SOC = galva.galva_calc()"
   ]
  },
  {
   "cell_type": "code",
   "execution_count": null,
   "id": "a50d671a-1845-4c65-a306-414b47f30fbf",
   "metadata": {},
   "outputs": [],
   "source": [
    "SOCC = []\n",
    "\n",
    "for sss in SOC:\n",
    "    if sss < 1.0:\n",
    "        SOCC.append(sss)\n",
    "    else:\n",
    "        SOCC.append(.99999)"
   ]
  },
  {
   "cell_type": "raw",
   "id": "25982515-20b5-4ff6-b124-6783cd8fd532",
   "metadata": {},
   "source": [
    "Cr = [np.log(3600 / D *(ks / np.exp(xx))**2) for xx in logXi]\n",
    "\n",
    "\n",
    "d = [np.log(D * np.exp(xx) / ks * np.sqrt(np.exp(l) * geo)) for xx, l in zip(logXi, logL)]"
   ]
  },
  {
   "cell_type": "code",
   "execution_count": null,
   "id": "9507e254-9735-4ef7-aebb-132d08ff6711",
   "metadata": {},
   "outputs": [],
   "source": [
    "#df = pd.DataFrame({'L': logL, 'Xi': logXi, 'Cr': Cr, 'd': d, 'SOC': SOC})\n",
    "df = pd.DataFrame({'L': logL, 'Xi': logXi, 'SOC': SOC})"
   ]
  },
  {
   "cell_type": "code",
   "execution_count": null,
   "id": "d2ba2a3f-83f8-4a99-9501-220619466bb0",
   "metadata": {},
   "outputs": [],
   "source": [
    "x = df['L']\n",
    "y = df['Xi']\n",
    "z = df['SOC']\n",
    "\n",
    "# Crear el gráfico de contorno\n",
    "plt.figure(figsize=(8, 6))\n",
    "contour_plot = plt.tricontourf(x, y, SOCC, cmap=\"viridis\", levels=20)\n",
    "\n",
    "# Etiquetas de ejes y título\n",
    "plt.xlabel('log(L)')\n",
    "plt.ylabel('log(Xi)')\n",
    "plt.title('DIAGRAMA ESFERICA')\n",
    "\n",
    "# Barra de colores\n",
    "plt.colorbar(contour_plot, label='SOC')\n",
    "\n",
    "# Mostrar el gráfico\n",
    "plt.show()"
   ]
  },
  {
   "cell_type": "code",
   "execution_count": 20,
   "id": "35041ec1-89a1-4e4b-b7e2-b398ad651710",
   "metadata": {},
   "outputs": [
    {
     "data": {
      "image/png": "[encoded data removed]",
      "text/plain": [
       "<Figure size 800x600 with 2 Axes>"
      ]
     },
     "metadata": {},
     "output_type": "display_data"
    }
   ],
   "source": [
    "x = df['d']\n",
    "y = df['Cr']\n",
    "z = df['SOC']\n",
    "\n",
    "# Crear el gráfico de contorno\n",
    "plt.figure(figsize=(8, 6))\n",
    "contour_plot = plt.tricontourf(x, y, SOCC, cmap=\"viridis\", levels=10)\n",
    "\n",
    "# Etiquetas de ejes y título\n",
    "plt.xlabel('log(d)')\n",
    "plt.ylabel('log(Cr)')\n",
    "plt.title('DIAGRAMA')\n",
    "\n",
    "# Barra de colores\n",
    "plt.colorbar(contour_plot, label='SOC')\n",
    "\n",
    "# Mostrar el gráfico\n",
    "plt.show()"
   ]
  },
  {
   "cell_type": "code",
   "execution_count": 71,
   "id": "3f234648-690f-4334-ab72-004f8a69c2ba",
   "metadata": {},
   "outputs": [],
   "source": [
    "df.to_csv('esf_100x100.csv')  "
   ]
  },
  {
   "cell_type": "markdown",
   "id": "c00c8ffb-b1e0-4901-b116-86f0d42cff1b",
   "metadata": {},
   "source": [
    "# Lineal"
   ]
  },
  {
   "cell_type": "code",
   "execution_count": 7,
   "id": "fe1fc6df-dad2-46c7-bf9d-1c970d68778a",
   "metadata": {},
   "outputs": [],
   "source": [
    "li_path = '../../paralelo/diagramas/galva_lineal_chequeo.so'\n",
    "geo = 3.0"
   ]
  },
  {
   "cell_type": "code",
   "execution_count": 8,
   "id": "d0da5c59-382f-4df7-ad4a-aa8e79973e28",
   "metadata": {},
   "outputs": [],
   "source": [
    "Xi = np.linspace(Xi0, Xif, NXi)\n",
    "Xi = np.power(10, Xi)\n",
    "L = np.linspace(L0, Lf, NL)\n",
    "L = np.power(10, L)"
   ]
  },
  {
   "cell_type": "code",
   "execution_count": 9,
   "id": "0ab34015-3170-4c36-9fee-a574decab10f",
   "metadata": {},
   "outputs": [],
   "source": [
    "for ll in L:\n",
    "    for xx in Xi:\n",
    "        galva_li = gl.galva_diagram(li_path, Npx, Npt, NPOINTS, Niso, D, ks, T, Mr, m, rho, Rohm, Eoff, Qmax, geo, xx, ll, ai, bi, ci, di, capacidad)\n",
    "        galva_li.galva_calc()"
   ]
  },
  {
   "cell_type": "code",
   "execution_count": 10,
   "id": "55250fc3-a443-4e8e-876c-5dc422df5b98",
   "metadata": {},
   "outputs": [],
   "source": [
    "with open('Profile-Out-L-Xi.dat', 'r') as isos:\n",
    "    isos = isos.readlines()"
   ]
  },
  {
   "cell_type": "code",
   "execution_count": 11,
   "id": "5f63d60c-d64f-4374-bc72-74f3264b2de6",
   "metadata": {},
   "outputs": [],
   "source": [
    "isos_proc = [ii.split() for ii in isos if '#' not in ii]"
   ]
  },
  {
   "cell_type": "code",
   "execution_count": 14,
   "id": "2b41a206-0646-4a44-8a69-d2c5eea77b0e",
   "metadata": {},
   "outputs": [],
   "source": [
    "iso_L = [float(ii[0]) for ii in isos_proc]\n",
    "iso_Xi = [float(ii[1]) for ii in isos_proc]\n",
    "iso_SOC = [float(ii[2]) for ii in isos_proc]\n",
    "iso_POT = [float(ii[3]) for ii in isos_proc]"
   ]
  },
  {
   "cell_type": "code",
   "execution_count": 16,
   "id": "e1f30ed7-150b-4e08-a23b-15be65091044",
   "metadata": {},
   "outputs": [],
   "source": [
    "isos_df = pd.DataFrame({'L':iso_L, 'Xi': iso_Xi, 'SOC':iso_SOC, 'Potencial':iso_POT})"
   ]
  },
  {
   "cell_type": "code",
   "execution_count": 24,
   "id": "0dbadf08-10cd-4c78-9623-62417b026b00",
   "metadata": {},
   "outputs": [
    {
     "data": {
      "text/plain": [
       "<Axes: xlabel='SOC'>"
      ]
     },
     "execution_count": 24,
     "metadata": {},
     "output_type": "execute_result"
    },
    {
     "data": {
      "image/png": "[encoded data removed]",
      "text/plain": [
       "<Figure size 640x480 with 1 Axes>"
      ]
     },
     "metadata": {},
     "output_type": "display_data"
    }
   ],
   "source": [
    "isos_df[(isos_df.L == L[0]) & (isos_df.Xi == Xi[0])].plot(x='SOC', y='Potencial')"
   ]
  },
  {
   "cell_type": "code",
   "execution_count": null,
   "id": "a39a9dbc-e974-473c-89ef-480e16d57ff4",
   "metadata": {},
   "outputs": [],
   "source": []
  }
 ],
 "metadata": {
  "kernelspec": {
   "display_name": "Python 3 (ipykernel)",
   "language": "python",
   "name": "python3"
  },
  "language_info": {
   "codemirror_mode": {
    "name": "ipython",
    "version": 3
   },
   "file_extension": ".py",
   "mimetype": "text/x-python",
   "name": "python",
   "nbconvert_exporter": "python",
   "pygments_lexer": "ipython3",
   "version": "3.10.12"
  }
 },
 "nbformat": 4,
 "nbformat_minor": 5
}
